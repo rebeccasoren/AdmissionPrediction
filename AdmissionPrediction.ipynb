{
  "nbformat": 4,
  "nbformat_minor": 0,
  "metadata": {
    "colab": {
      "name": "AdmissionPrediction.ipynb",
      "provenance": [],
      "authorship_tag": "ABX9TyPQdNHDNsORAG8nDvjLUbRn",
      "include_colab_link": true
    },
    "kernelspec": {
      "name": "python3",
      "display_name": "Python 3"
    }
  },
  "cells": [
    {
      "cell_type": "markdown",
      "metadata": {
        "id": "view-in-github",
        "colab_type": "text"
      },
      "source": [
        "<a href=\"https://colab.research.google.com/github/rebeccasoren/AdmissionPrediction/blob/main/AdmissionPrediction.ipynb\" target=\"_parent\"><img src=\"https://colab.research.google.com/assets/colab-badge.svg\" alt=\"Open In Colab\"/></a>"
      ]
    },
    {
      "cell_type": "markdown",
      "metadata": {
        "id": "nlLGumpW6Sjg"
      },
      "source": [
        "# Admission Prediction\n",
        "Building a random forest regressor model that can predict chance of admission.\n",
        "\n",
        "## Making the Imports"
      ]
    },
    {
      "cell_type": "code",
      "metadata": {
        "id": "cklqYZdQ4Hv6"
      },
      "source": [
        "import pandas as pd\n",
        "import seaborn as sns\n",
        "import matplotlib.pyplot as plt\n",
        "import random\n",
        "from sklearn.linear_model import LinearRegression \n",
        "from sklearn.ensemble import RandomForestRegressor \n",
        "from sklearn.model_selection import GridSearchCV,train_test_split \n",
        "from sklearn.metrics import mean_absolute_error as MSE"
      ],
      "execution_count": 29,
      "outputs": []
    },
    {
      "cell_type": "markdown",
      "metadata": {
        "id": "gvH1AhOq6lfz"
      },
      "source": [
        "## Loading the dataset"
      ]
    },
    {
      "cell_type": "code",
      "metadata": {
        "id": "9FxF0loq4OGB",
        "outputId": "461c2821-66ab-42f5-8dd3-73d910d6afa6",
        "colab": {
          "base_uri": "https://localhost:8080/",
          "height": 204
        }
      },
      "source": [
        "admissions = pd.read_csv(\"Admission_Predict.csv\")\n",
        "admissions = admissions.drop('Serial No.',axis = 1)\n",
        "admissions.head()"
      ],
      "execution_count": 30,
      "outputs": [
        {
          "output_type": "execute_result",
          "data": {
            "text/html": [
              "<div>\n",
              "<style scoped>\n",
              "    .dataframe tbody tr th:only-of-type {\n",
              "        vertical-align: middle;\n",
              "    }\n",
              "\n",
              "    .dataframe tbody tr th {\n",
              "        vertical-align: top;\n",
              "    }\n",
              "\n",
              "    .dataframe thead th {\n",
              "        text-align: right;\n",
              "    }\n",
              "</style>\n",
              "<table border=\"1\" class=\"dataframe\">\n",
              "  <thead>\n",
              "    <tr style=\"text-align: right;\">\n",
              "      <th></th>\n",
              "      <th>GRE Score</th>\n",
              "      <th>TOEFL Score</th>\n",
              "      <th>University Rating</th>\n",
              "      <th>SOP</th>\n",
              "      <th>LOR</th>\n",
              "      <th>CGPA</th>\n",
              "      <th>Research</th>\n",
              "      <th>Chance of Admit</th>\n",
              "    </tr>\n",
              "  </thead>\n",
              "  <tbody>\n",
              "    <tr>\n",
              "      <th>0</th>\n",
              "      <td>337</td>\n",
              "      <td>118</td>\n",
              "      <td>4</td>\n",
              "      <td>4.5</td>\n",
              "      <td>4.5</td>\n",
              "      <td>9.65</td>\n",
              "      <td>1</td>\n",
              "      <td>0.92</td>\n",
              "    </tr>\n",
              "    <tr>\n",
              "      <th>1</th>\n",
              "      <td>324</td>\n",
              "      <td>107</td>\n",
              "      <td>4</td>\n",
              "      <td>4.0</td>\n",
              "      <td>4.5</td>\n",
              "      <td>8.87</td>\n",
              "      <td>1</td>\n",
              "      <td>0.76</td>\n",
              "    </tr>\n",
              "    <tr>\n",
              "      <th>2</th>\n",
              "      <td>316</td>\n",
              "      <td>104</td>\n",
              "      <td>3</td>\n",
              "      <td>3.0</td>\n",
              "      <td>3.5</td>\n",
              "      <td>8.00</td>\n",
              "      <td>1</td>\n",
              "      <td>0.72</td>\n",
              "    </tr>\n",
              "    <tr>\n",
              "      <th>3</th>\n",
              "      <td>322</td>\n",
              "      <td>110</td>\n",
              "      <td>3</td>\n",
              "      <td>3.5</td>\n",
              "      <td>2.5</td>\n",
              "      <td>8.67</td>\n",
              "      <td>1</td>\n",
              "      <td>0.80</td>\n",
              "    </tr>\n",
              "    <tr>\n",
              "      <th>4</th>\n",
              "      <td>314</td>\n",
              "      <td>103</td>\n",
              "      <td>2</td>\n",
              "      <td>2.0</td>\n",
              "      <td>3.0</td>\n",
              "      <td>8.21</td>\n",
              "      <td>0</td>\n",
              "      <td>0.65</td>\n",
              "    </tr>\n",
              "  </tbody>\n",
              "</table>\n",
              "</div>"
            ],
            "text/plain": [
              "   GRE Score  TOEFL Score  University Rating  ...  CGPA  Research  Chance of Admit \n",
              "0        337          118                  4  ...  9.65         1              0.92\n",
              "1        324          107                  4  ...  8.87         1              0.76\n",
              "2        316          104                  3  ...  8.00         1              0.72\n",
              "3        322          110                  3  ...  8.67         1              0.80\n",
              "4        314          103                  2  ...  8.21         0              0.65\n",
              "\n",
              "[5 rows x 8 columns]"
            ]
          },
          "metadata": {
            "tags": []
          },
          "execution_count": 30
        }
      ]
    },
    {
      "cell_type": "code",
      "metadata": {
        "id": "ylQJXd-o4mLN",
        "outputId": "ead47dbe-05c7-4f9a-abb5-331144efe173",
        "colab": {
          "base_uri": "https://localhost:8080/",
          "height": 297
        }
      },
      "source": [
        "admissions.describe()"
      ],
      "execution_count": 31,
      "outputs": [
        {
          "output_type": "execute_result",
          "data": {
            "text/html": [
              "<div>\n",
              "<style scoped>\n",
              "    .dataframe tbody tr th:only-of-type {\n",
              "        vertical-align: middle;\n",
              "    }\n",
              "\n",
              "    .dataframe tbody tr th {\n",
              "        vertical-align: top;\n",
              "    }\n",
              "\n",
              "    .dataframe thead th {\n",
              "        text-align: right;\n",
              "    }\n",
              "</style>\n",
              "<table border=\"1\" class=\"dataframe\">\n",
              "  <thead>\n",
              "    <tr style=\"text-align: right;\">\n",
              "      <th></th>\n",
              "      <th>GRE Score</th>\n",
              "      <th>TOEFL Score</th>\n",
              "      <th>University Rating</th>\n",
              "      <th>SOP</th>\n",
              "      <th>LOR</th>\n",
              "      <th>CGPA</th>\n",
              "      <th>Research</th>\n",
              "      <th>Chance of Admit</th>\n",
              "    </tr>\n",
              "  </thead>\n",
              "  <tbody>\n",
              "    <tr>\n",
              "      <th>count</th>\n",
              "      <td>400.000000</td>\n",
              "      <td>400.000000</td>\n",
              "      <td>400.000000</td>\n",
              "      <td>400.000000</td>\n",
              "      <td>400.000000</td>\n",
              "      <td>400.000000</td>\n",
              "      <td>400.000000</td>\n",
              "      <td>400.000000</td>\n",
              "    </tr>\n",
              "    <tr>\n",
              "      <th>mean</th>\n",
              "      <td>316.807500</td>\n",
              "      <td>107.410000</td>\n",
              "      <td>3.087500</td>\n",
              "      <td>3.400000</td>\n",
              "      <td>3.452500</td>\n",
              "      <td>8.598925</td>\n",
              "      <td>0.547500</td>\n",
              "      <td>0.724350</td>\n",
              "    </tr>\n",
              "    <tr>\n",
              "      <th>std</th>\n",
              "      <td>11.473646</td>\n",
              "      <td>6.069514</td>\n",
              "      <td>1.143728</td>\n",
              "      <td>1.006869</td>\n",
              "      <td>0.898478</td>\n",
              "      <td>0.596317</td>\n",
              "      <td>0.498362</td>\n",
              "      <td>0.142609</td>\n",
              "    </tr>\n",
              "    <tr>\n",
              "      <th>min</th>\n",
              "      <td>290.000000</td>\n",
              "      <td>92.000000</td>\n",
              "      <td>1.000000</td>\n",
              "      <td>1.000000</td>\n",
              "      <td>1.000000</td>\n",
              "      <td>6.800000</td>\n",
              "      <td>0.000000</td>\n",
              "      <td>0.340000</td>\n",
              "    </tr>\n",
              "    <tr>\n",
              "      <th>25%</th>\n",
              "      <td>308.000000</td>\n",
              "      <td>103.000000</td>\n",
              "      <td>2.000000</td>\n",
              "      <td>2.500000</td>\n",
              "      <td>3.000000</td>\n",
              "      <td>8.170000</td>\n",
              "      <td>0.000000</td>\n",
              "      <td>0.640000</td>\n",
              "    </tr>\n",
              "    <tr>\n",
              "      <th>50%</th>\n",
              "      <td>317.000000</td>\n",
              "      <td>107.000000</td>\n",
              "      <td>3.000000</td>\n",
              "      <td>3.500000</td>\n",
              "      <td>3.500000</td>\n",
              "      <td>8.610000</td>\n",
              "      <td>1.000000</td>\n",
              "      <td>0.730000</td>\n",
              "    </tr>\n",
              "    <tr>\n",
              "      <th>75%</th>\n",
              "      <td>325.000000</td>\n",
              "      <td>112.000000</td>\n",
              "      <td>4.000000</td>\n",
              "      <td>4.000000</td>\n",
              "      <td>4.000000</td>\n",
              "      <td>9.062500</td>\n",
              "      <td>1.000000</td>\n",
              "      <td>0.830000</td>\n",
              "    </tr>\n",
              "    <tr>\n",
              "      <th>max</th>\n",
              "      <td>340.000000</td>\n",
              "      <td>120.000000</td>\n",
              "      <td>5.000000</td>\n",
              "      <td>5.000000</td>\n",
              "      <td>5.000000</td>\n",
              "      <td>9.920000</td>\n",
              "      <td>1.000000</td>\n",
              "      <td>0.970000</td>\n",
              "    </tr>\n",
              "  </tbody>\n",
              "</table>\n",
              "</div>"
            ],
            "text/plain": [
              "        GRE Score  TOEFL Score  ...    Research  Chance of Admit \n",
              "count  400.000000   400.000000  ...  400.000000        400.000000\n",
              "mean   316.807500   107.410000  ...    0.547500          0.724350\n",
              "std     11.473646     6.069514  ...    0.498362          0.142609\n",
              "min    290.000000    92.000000  ...    0.000000          0.340000\n",
              "25%    308.000000   103.000000  ...    0.000000          0.640000\n",
              "50%    317.000000   107.000000  ...    1.000000          0.730000\n",
              "75%    325.000000   112.000000  ...    1.000000          0.830000\n",
              "max    340.000000   120.000000  ...    1.000000          0.970000\n",
              "\n",
              "[8 rows x 8 columns]"
            ]
          },
          "metadata": {
            "tags": []
          },
          "execution_count": 31
        }
      ]
    },
    {
      "cell_type": "markdown",
      "metadata": {
        "id": "Nldrn1D45YGW"
      },
      "source": [
        "## Visualizing the correlation\n",
        "The heatmap is a way of representing the data in a 2-dimensional form. The data values are represented as colors in the graph. The goal of the heatmap is to provide a colored visual summary of information.\n",
        "\n",
        "**corr():**\n",
        "Correlation measures the strength of association between two variables and the direction of the relationship. \n",
        "* The value of the correlation coefficient varies between +1 and -1.  \n",
        "* A value of ± 1 indicates a perfect degree of association between the two variables.  \n",
        "* As the correlation coefficient value goes towards 0, the relationship between the two variables will be weaker.\n",
        "\n",
        "**Pearson r correlation:**\n",
        "\n",
        "The following formula is used to calculate the Pearson r correlation:\n",
        "\n",
        "![download.jpg](data:image/jpeg;base64,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)"
      ]
    },
    {
      "cell_type": "code",
      "metadata": {
        "id": "aZsbbP044qRK",
        "outputId": "209d0c6d-fbcc-4396-f9ee-b7d7a5c5ef70",
        "colab": {
          "base_uri": "https://localhost:8080/",
          "height": 362
        }
      },
      "source": [
        "corr = admissions.corr()\n",
        "# corr() uses pearson method\n",
        "sns.heatmap(corr, xticklabels=corr.columns.values, yticklabels=corr.columns.values)"
      ],
      "execution_count": 32,
      "outputs": [
        {
          "output_type": "execute_result",
          "data": {
            "text/plain": [
              "<matplotlib.axes._subplots.AxesSubplot at 0x7f64126379e8>"
            ]
          },
          "metadata": {
            "tags": []
          },
          "execution_count": 32
        },
        {
          "output_type": "display_data",
          "data": {
            "image/png": "[encoded data removed]",
            "text/plain": [
              "<Figure size 432x288 with 2 Axes>"
            ]
          },
          "metadata": {
            "tags": [],
            "needs_background": "light"
          }
        }
      ]
    },
    {
      "cell_type": "markdown",
      "metadata": {
        "id": "kgbMDKu65mW7"
      },
      "source": [
        "## Splitting into Test and Train sets\n",
        "The training set has 75% of data while test set has 25% of it.\n",
        "random_state acts as the seed for the random number generator during the split."
      ]
    },
    {
      "cell_type": "code",
      "metadata": {
        "id": "_UFhEXJj4tPK"
      },
      "source": [
        "X = admissions.drop('Chance of Admit ',axis = 1)\n",
        "y = admissions['Chance of Admit ']\n",
        "\n",
        "X_train,X_test,y_train,y_test = train_test_split(X,y,test_size = .25,random_state = 123)"
      ],
      "execution_count": 33,
      "outputs": []
    },
    {
      "cell_type": "markdown",
      "metadata": {
        "id": "yFzn0x695yjt"
      },
      "source": [
        "## Initialising the Model\n",
        "\n",
        "We used random forest algorithm for solving this regression problem. \n",
        "The random forest combines hundreds or thousands of decision trees, trains each one on a slightly different set of the observations, splitting nodes in each tree considering a limited number of the features. The final predictions of the random forest are made by averaging the predictions of each individual tree.\n",
        "\n",
        "RFs train each tree independently, using a random sample of the data. This randomness helps to make the model more robust than a single decision tree, and less likely to overfit on the training data.\n",
        "\n",
        "n_estimators is the number of trees to be used in the forest. Since Random Forest is an ensemble method comprising of creating multiple decision trees, this parameter is used to control the number of trees to be used in the process.\n",
        "\n",
        "To tune the hyperparmeter, we used Grid search cross validation\n",
        "* Manually set a grid of discrete hyperparameter values.\n",
        "* Set a metric for scoring model performance.\n",
        "* Search exhaustively through the grid.\n",
        "* For each set of hyperparameters, evaluate each model's CV score.\n",
        "* The optimal hyperparameters are those of the model achieving the best CV score"
      ]
    },
    {
      "cell_type": "code",
      "metadata": {
        "id": "O4Ep5JIb4xIY",
        "outputId": "fc36a86c-dab4-4220-8805-4e51446fa189",
        "colab": {
          "base_uri": "https://localhost:8080/"
        }
      },
      "source": [
        "rf_model = RandomForestRegressor(random_state = 21, )\n",
        "params_rf={\n",
        "    'n_estimators':[100,200,300]\n",
        "}\n",
        "grid_rf=GridSearchCV(estimator=rf_model,\n",
        "                     param_grid=params_rf,\n",
        "                     cv=5,\n",
        "                     scoring='neg_mean_squared_error',\n",
        "                     verbose=1, n_jobs=-1)\n",
        "grid_rf.fit(X_train,y_train)"
      ],
      "execution_count": 34,
      "outputs": [
        {
          "output_type": "stream",
          "text": [
            "Fitting 5 folds for each of 3 candidates, totalling 15 fits\n"
          ],
          "name": "stdout"
        },
        {
          "output_type": "stream",
          "text": [
            "[Parallel(n_jobs=-1)]: Using backend LokyBackend with 2 concurrent workers.\n"
          ],
          "name": "stderr"
        },
        {
          "output_type": "stream",
          "text": [
            "Best hyperparameters: {'n_estimators': 100}\n",
            "RMSE: 0.22400892839349054\n"
          ],
          "name": "stdout"
        },
        {
          "output_type": "stream",
          "text": [
            "[Parallel(n_jobs=-1)]: Done  15 out of  15 | elapsed:    4.2s finished\n"
          ],
          "name": "stderr"
        }
      ]
    },
    {
      "cell_type": "markdown",
      "metadata": {
        "id": "fni_DIO-Di8F"
      },
      "source": [
        "## Evaluating Model Performance"
      ]
    },
    {
      "cell_type": "code",
      "metadata": {
        "id": "EwfiCcUtDffX"
      },
      "source": [
        "best_hyperparams=grid_rf.best_params_\n",
        "print(\"Best hyperparameters:\", best_hyperparams)\n",
        "best_model=grid_rf.best_estimator_\n",
        "y_pred=best_model.predict(X_test)\n",
        "rmse_test=MSE(y_test, y_pred)**(1/2)\n",
        "print(\"RMSE:\", rmse_test)\n"
      ],
      "execution_count": null,
      "outputs": []
    },
    {
      "cell_type": "markdown",
      "metadata": {
        "id": "lh4jnh-n6FMT"
      },
      "source": [
        "## Plot the class wise feature importance\n"
      ]
    },
    {
      "cell_type": "code",
      "metadata": {
        "id": "LbOJasVv42hr",
        "outputId": "7041d0be-3c6e-4905-85b5-19b2058fc4d8",
        "colab": {
          "base_uri": "https://localhost:8080/",
          "height": 405
        }
      },
      "source": [
        "feature_importance = pd.DataFrame(sorted(zip(best_model.feature_importances_, X.columns)), columns=['Value','Feature']) \n",
        "plt.figure(figsize=(10, 6)) \n",
        "sns.barplot(x=\"Value\", y=\"Feature\", data=feature_importance.sort_values(by=\"Value\", ascending=False)) "
      ],
      "execution_count": 36,
      "outputs": [
        {
          "output_type": "execute_result",
          "data": {
            "text/plain": [
              "<matplotlib.axes._subplots.AxesSubplot at 0x7f6409a32828>"
            ]
          },
          "metadata": {
            "tags": []
          },
          "execution_count": 36
        },
        {
          "output_type": "display_data",
          "data": {
            "image/png": "[encoded data removed]",
            "text/plain": [
              "<Figure size 720x432 with 1 Axes>"
            ]
          },
          "metadata": {
            "tags": [],
            "needs_background": "light"
          }
        }
      ]
    }
  ]
}